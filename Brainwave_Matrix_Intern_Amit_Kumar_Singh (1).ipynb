{
 "cells": [
  {
   "cell_type": "markdown",
   "metadata": {
    "id": "MZuTzFNQLs5o"
   },
   "source": [
    "## Retail Sales Data Set\n",
    "Do data analysis on this CSV file with the visualization and EDA processing\n",
    "\n",
    "\n"
   ]
  },
  {
   "cell_type": "code",
   "execution_count": 1,
   "metadata": {
    "id": "fF1X96xtLz_C"
   },
   "outputs": [],
   "source": [
    "import pandas as pd\n",
    "import matplotlib.pyplot as plt\n",
    "import seaborn as sns\n",
    "import numpy as np\n",
    "import warnings\n",
    "warnings.filterwarnings('ignore')\n"
   ]
  },
  {
   "cell_type": "code",
   "execution_count": 3,
   "metadata": {
    "id": "9utuOSShMiJy"
   },
   "outputs": [
    {
     "data": {
      "text/html": [
       "<div>\n",
       "<style scoped>\n",
       "    .dataframe tbody tr th:only-of-type {\n",
       "        vertical-align: middle;\n",
       "    }\n",
       "\n",
       "    .dataframe tbody tr th {\n",
       "        vertical-align: top;\n",
       "    }\n",
       "\n",
       "    .dataframe thead th {\n",
       "        text-align: right;\n",
       "    }\n",
       "</style>\n",
       "<table border=\"1\" class=\"dataframe\">\n",
       "  <thead>\n",
       "    <tr style=\"text-align: right;\">\n",
       "      <th></th>\n",
       "      <th>Transaction ID</th>\n",
       "      <th>Date</th>\n",
       "      <th>Gender</th>\n",
       "      <th>Age</th>\n",
       "      <th>Age Group</th>\n",
       "      <th>Product Category</th>\n",
       "      <th>Quantity</th>\n",
       "      <th>Price per Unit</th>\n",
       "      <th>Total Amount</th>\n",
       "      <th>Unnamed: 9</th>\n",
       "      <th>...</th>\n",
       "      <th>Unnamed: 14</th>\n",
       "      <th>Unnamed: 15</th>\n",
       "      <th>Unnamed: 16</th>\n",
       "      <th>Min_age</th>\n",
       "      <th>Max_age</th>\n",
       "      <th>Avg_age</th>\n",
       "      <th>Total Sales Revenue</th>\n",
       "      <th>Average Order value</th>\n",
       "      <th>Category</th>\n",
       "      <th>Sales</th>\n",
       "    </tr>\n",
       "  </thead>\n",
       "  <tbody>\n",
       "    <tr>\n",
       "      <th>0</th>\n",
       "      <td>1</td>\n",
       "      <td>11/24/2023</td>\n",
       "      <td>Male</td>\n",
       "      <td>34</td>\n",
       "      <td>Middle Age</td>\n",
       "      <td>Beauty</td>\n",
       "      <td>3</td>\n",
       "      <td>50</td>\n",
       "      <td>150</td>\n",
       "      <td>NaN</td>\n",
       "      <td>...</td>\n",
       "      <td>NaN</td>\n",
       "      <td>NaN</td>\n",
       "      <td>NaN</td>\n",
       "      <td>18.0</td>\n",
       "      <td>64.0</td>\n",
       "      <td>41.0</td>\n",
       "      <td>456000.0</td>\n",
       "      <td>456.0</td>\n",
       "      <td>Electronics</td>\n",
       "      <td>156905.0</td>\n",
       "    </tr>\n",
       "    <tr>\n",
       "      <th>1</th>\n",
       "      <td>2</td>\n",
       "      <td>2/27/2023</td>\n",
       "      <td>Female</td>\n",
       "      <td>26</td>\n",
       "      <td>Adolescent</td>\n",
       "      <td>Clothing</td>\n",
       "      <td>2</td>\n",
       "      <td>500</td>\n",
       "      <td>1000</td>\n",
       "      <td>NaN</td>\n",
       "      <td>...</td>\n",
       "      <td>NaN</td>\n",
       "      <td>NaN</td>\n",
       "      <td>NaN</td>\n",
       "      <td>NaN</td>\n",
       "      <td>NaN</td>\n",
       "      <td>NaN</td>\n",
       "      <td>NaN</td>\n",
       "      <td>NaN</td>\n",
       "      <td>Clothing</td>\n",
       "      <td>155580.0</td>\n",
       "    </tr>\n",
       "    <tr>\n",
       "      <th>2</th>\n",
       "      <td>3</td>\n",
       "      <td>1/13/2023</td>\n",
       "      <td>Male</td>\n",
       "      <td>50</td>\n",
       "      <td>Middle Age</td>\n",
       "      <td>Electronics</td>\n",
       "      <td>1</td>\n",
       "      <td>30</td>\n",
       "      <td>30</td>\n",
       "      <td>NaN</td>\n",
       "      <td>...</td>\n",
       "      <td>NaN</td>\n",
       "      <td>NaN</td>\n",
       "      <td>NaN</td>\n",
       "      <td>NaN</td>\n",
       "      <td>NaN</td>\n",
       "      <td>NaN</td>\n",
       "      <td>NaN</td>\n",
       "      <td>NaN</td>\n",
       "      <td>Beauty</td>\n",
       "      <td>143515.0</td>\n",
       "    </tr>\n",
       "    <tr>\n",
       "      <th>3</th>\n",
       "      <td>4</td>\n",
       "      <td>5/21/2023</td>\n",
       "      <td>Male</td>\n",
       "      <td>37</td>\n",
       "      <td>Middle Age</td>\n",
       "      <td>Clothing</td>\n",
       "      <td>1</td>\n",
       "      <td>500</td>\n",
       "      <td>500</td>\n",
       "      <td>NaN</td>\n",
       "      <td>...</td>\n",
       "      <td>NaN</td>\n",
       "      <td>NaN</td>\n",
       "      <td>NaN</td>\n",
       "      <td>NaN</td>\n",
       "      <td>NaN</td>\n",
       "      <td>NaN</td>\n",
       "      <td>NaN</td>\n",
       "      <td>NaN</td>\n",
       "      <td>NaN</td>\n",
       "      <td>NaN</td>\n",
       "    </tr>\n",
       "    <tr>\n",
       "      <th>4</th>\n",
       "      <td>5</td>\n",
       "      <td>5/6/2023</td>\n",
       "      <td>Male</td>\n",
       "      <td>30</td>\n",
       "      <td>Adolescent</td>\n",
       "      <td>Beauty</td>\n",
       "      <td>2</td>\n",
       "      <td>50</td>\n",
       "      <td>100</td>\n",
       "      <td>NaN</td>\n",
       "      <td>...</td>\n",
       "      <td>NaN</td>\n",
       "      <td>NaN</td>\n",
       "      <td>NaN</td>\n",
       "      <td>NaN</td>\n",
       "      <td>NaN</td>\n",
       "      <td>NaN</td>\n",
       "      <td>NaN</td>\n",
       "      <td>NaN</td>\n",
       "      <td>NaN</td>\n",
       "      <td>NaN</td>\n",
       "    </tr>\n",
       "  </tbody>\n",
       "</table>\n",
       "<p>5 rows × 24 columns</p>\n",
       "</div>"
      ],
      "text/plain": [
       "   Transaction ID        Date  Gender  Age   Age Group Product Category  \\\n",
       "0               1  11/24/2023    Male   34  Middle Age           Beauty   \n",
       "1               2   2/27/2023  Female   26  Adolescent         Clothing   \n",
       "2               3   1/13/2023    Male   50  Middle Age      Electronics   \n",
       "3               4   5/21/2023    Male   37  Middle Age         Clothing   \n",
       "4               5    5/6/2023    Male   30  Adolescent           Beauty   \n",
       "\n",
       "   Quantity  Price per Unit  Total Amount  Unnamed: 9  ...  Unnamed: 14  \\\n",
       "0         3              50           150         NaN  ...          NaN   \n",
       "1         2             500          1000         NaN  ...          NaN   \n",
       "2         1              30            30         NaN  ...          NaN   \n",
       "3         1             500           500         NaN  ...          NaN   \n",
       "4         2              50           100         NaN  ...          NaN   \n",
       "\n",
       "   Unnamed: 15  Unnamed: 16  Min_age  Max_age  Avg_age  Total Sales Revenue  \\\n",
       "0          NaN          NaN     18.0     64.0     41.0             456000.0   \n",
       "1          NaN          NaN      NaN      NaN      NaN                  NaN   \n",
       "2          NaN          NaN      NaN      NaN      NaN                  NaN   \n",
       "3          NaN          NaN      NaN      NaN      NaN                  NaN   \n",
       "4          NaN          NaN      NaN      NaN      NaN                  NaN   \n",
       "\n",
       "   Average Order value     Category     Sales  \n",
       "0                456.0  Electronics  156905.0  \n",
       "1                  NaN     Clothing  155580.0  \n",
       "2                  NaN       Beauty  143515.0  \n",
       "3                  NaN          NaN       NaN  \n",
       "4                  NaN          NaN       NaN  \n",
       "\n",
       "[5 rows x 24 columns]"
      ]
     },
     "execution_count": 3,
     "metadata": {},
     "output_type": "execute_result"
    }
   ],
   "source": [
    "df = pd.read_csv(r'Retail Sales Data Set.csv')\n",
    "df.head()\n"
   ]
  },
  {
   "cell_type": "code",
   "execution_count": 4,
   "metadata": {
    "id": "FUzPXmdTL6eJ"
   },
   "outputs": [
    {
     "data": {
      "text/plain": [
       "(1000, 24)"
      ]
     },
     "execution_count": 4,
     "metadata": {},
     "output_type": "execute_result"
    }
   ],
   "source": [
    "df.shape"
   ]
  },
  {
   "cell_type": "markdown",
   "metadata": {
    "id": "0JLsnj_YMs3n"
   },
   "source": [
    "## Data Exploration:"
   ]
  },
  {
   "cell_type": "code",
   "execution_count": 5,
   "metadata": {
    "id": "CtYWZcTgNBdV"
   },
   "outputs": [
    {
     "data": {
      "text/plain": [
       "Transaction ID           int64\n",
       "Date                    object\n",
       "Gender                  object\n",
       "Age                      int64\n",
       "Age Group               object\n",
       "Product Category        object\n",
       "Quantity                 int64\n",
       "Price per Unit           int64\n",
       "Total Amount             int64\n",
       "Unnamed: 9             float64\n",
       "Unnamed: 10            float64\n",
       "Unnamed: 11            float64\n",
       "Unnamed: 12            float64\n",
       "Unnamed: 13            float64\n",
       "Unnamed: 14            float64\n",
       "Unnamed: 15            float64\n",
       "Unnamed: 16            float64\n",
       "Min_age                float64\n",
       "Max_age                float64\n",
       "Avg_age                float64\n",
       "Total Sales Revenue    float64\n",
       "Average Order value    float64\n",
       " Category               object\n",
       "Sales                  float64\n",
       "dtype: object"
      ]
     },
     "execution_count": 5,
     "metadata": {},
     "output_type": "execute_result"
    }
   ],
   "source": [
    "df.dtypes"
   ]
  },
  {
   "cell_type": "code",
   "execution_count": 6,
   "metadata": {
    "id": "wiAwdOQ4NEm3"
   },
   "outputs": [
    {
     "name": "stdout",
     "output_type": "stream",
     "text": [
      "<class 'pandas.core.frame.DataFrame'>\n",
      "RangeIndex: 1000 entries, 0 to 999\n",
      "Data columns (total 24 columns):\n",
      " #   Column               Non-Null Count  Dtype  \n",
      "---  ------               --------------  -----  \n",
      " 0   Transaction ID       1000 non-null   int64  \n",
      " 1   Date                 1000 non-null   object \n",
      " 2   Gender               1000 non-null   object \n",
      " 3   Age                  1000 non-null   int64  \n",
      " 4   Age Group            1000 non-null   object \n",
      " 5   Product Category     1000 non-null   object \n",
      " 6   Quantity             1000 non-null   int64  \n",
      " 7   Price per Unit       1000 non-null   int64  \n",
      " 8   Total Amount         1000 non-null   int64  \n",
      " 9   Unnamed: 9           0 non-null      float64\n",
      " 10  Unnamed: 10          0 non-null      float64\n",
      " 11  Unnamed: 11          0 non-null      float64\n",
      " 12  Unnamed: 12          0 non-null      float64\n",
      " 13  Unnamed: 13          0 non-null      float64\n",
      " 14  Unnamed: 14          0 non-null      float64\n",
      " 15  Unnamed: 15          0 non-null      float64\n",
      " 16  Unnamed: 16          0 non-null      float64\n",
      " 17  Min_age              1 non-null      float64\n",
      " 18  Max_age              1 non-null      float64\n",
      " 19  Avg_age              1 non-null      float64\n",
      " 20  Total Sales Revenue  1 non-null      float64\n",
      " 21  Average Order value  1 non-null      float64\n",
      " 22   Category            3 non-null      object \n",
      " 23  Sales                3 non-null      float64\n",
      "dtypes: float64(14), int64(5), object(5)\n",
      "memory usage: 187.6+ KB\n"
     ]
    }
   ],
   "source": [
    "df.info()"
   ]
  },
  {
   "cell_type": "code",
   "execution_count": 7,
   "metadata": {
    "id": "MWUxbWiDNJ3-"
   },
   "outputs": [
    {
     "data": {
      "text/plain": [
       "Transaction ID            0\n",
       "Date                      0\n",
       "Gender                    0\n",
       "Age                       0\n",
       "Age Group                 0\n",
       "Product Category          0\n",
       "Quantity                  0\n",
       "Price per Unit            0\n",
       "Total Amount              0\n",
       "Unnamed: 9             1000\n",
       "Unnamed: 10            1000\n",
       "Unnamed: 11            1000\n",
       "Unnamed: 12            1000\n",
       "Unnamed: 13            1000\n",
       "Unnamed: 14            1000\n",
       "Unnamed: 15            1000\n",
       "Unnamed: 16            1000\n",
       "Min_age                 999\n",
       "Max_age                 999\n",
       "Avg_age                 999\n",
       "Total Sales Revenue     999\n",
       "Average Order value     999\n",
       " Category               997\n",
       "Sales                   997\n",
       "dtype: int64"
      ]
     },
     "execution_count": 7,
     "metadata": {},
     "output_type": "execute_result"
    }
   ],
   "source": [
    "df.isnull().sum()"
   ]
  },
  {
   "cell_type": "code",
   "execution_count": 8,
   "metadata": {
    "id": "2ggEtR2LNRdf"
   },
   "outputs": [
    {
     "data": {
      "text/html": [
       "<div>\n",
       "<style scoped>\n",
       "    .dataframe tbody tr th:only-of-type {\n",
       "        vertical-align: middle;\n",
       "    }\n",
       "\n",
       "    .dataframe tbody tr th {\n",
       "        vertical-align: top;\n",
       "    }\n",
       "\n",
       "    .dataframe thead th {\n",
       "        text-align: right;\n",
       "    }\n",
       "</style>\n",
       "<table border=\"1\" class=\"dataframe\">\n",
       "  <thead>\n",
       "    <tr style=\"text-align: right;\">\n",
       "      <th></th>\n",
       "      <th>Transaction ID</th>\n",
       "      <th>Age</th>\n",
       "      <th>Quantity</th>\n",
       "      <th>Price per Unit</th>\n",
       "      <th>Total Amount</th>\n",
       "      <th>Unnamed: 9</th>\n",
       "      <th>Unnamed: 10</th>\n",
       "      <th>Unnamed: 11</th>\n",
       "      <th>Unnamed: 12</th>\n",
       "      <th>Unnamed: 13</th>\n",
       "      <th>Unnamed: 14</th>\n",
       "      <th>Unnamed: 15</th>\n",
       "      <th>Unnamed: 16</th>\n",
       "      <th>Min_age</th>\n",
       "      <th>Max_age</th>\n",
       "      <th>Avg_age</th>\n",
       "      <th>Total Sales Revenue</th>\n",
       "      <th>Average Order value</th>\n",
       "      <th>Sales</th>\n",
       "    </tr>\n",
       "  </thead>\n",
       "  <tbody>\n",
       "    <tr>\n",
       "      <th>count</th>\n",
       "      <td>1000.000000</td>\n",
       "      <td>1000.00000</td>\n",
       "      <td>1000.000000</td>\n",
       "      <td>1000.000000</td>\n",
       "      <td>1000.000000</td>\n",
       "      <td>0.0</td>\n",
       "      <td>0.0</td>\n",
       "      <td>0.0</td>\n",
       "      <td>0.0</td>\n",
       "      <td>0.0</td>\n",
       "      <td>0.0</td>\n",
       "      <td>0.0</td>\n",
       "      <td>0.0</td>\n",
       "      <td>1.0</td>\n",
       "      <td>1.0</td>\n",
       "      <td>1.0</td>\n",
       "      <td>1.0</td>\n",
       "      <td>1.0</td>\n",
       "      <td>3.000000</td>\n",
       "    </tr>\n",
       "    <tr>\n",
       "      <th>mean</th>\n",
       "      <td>500.500000</td>\n",
       "      <td>41.39200</td>\n",
       "      <td>2.514000</td>\n",
       "      <td>179.890000</td>\n",
       "      <td>456.000000</td>\n",
       "      <td>NaN</td>\n",
       "      <td>NaN</td>\n",
       "      <td>NaN</td>\n",
       "      <td>NaN</td>\n",
       "      <td>NaN</td>\n",
       "      <td>NaN</td>\n",
       "      <td>NaN</td>\n",
       "      <td>NaN</td>\n",
       "      <td>18.0</td>\n",
       "      <td>64.0</td>\n",
       "      <td>41.0</td>\n",
       "      <td>456000.0</td>\n",
       "      <td>456.0</td>\n",
       "      <td>152000.000000</td>\n",
       "    </tr>\n",
       "    <tr>\n",
       "      <th>std</th>\n",
       "      <td>288.819436</td>\n",
       "      <td>13.68143</td>\n",
       "      <td>1.132734</td>\n",
       "      <td>189.681356</td>\n",
       "      <td>559.997632</td>\n",
       "      <td>NaN</td>\n",
       "      <td>NaN</td>\n",
       "      <td>NaN</td>\n",
       "      <td>NaN</td>\n",
       "      <td>NaN</td>\n",
       "      <td>NaN</td>\n",
       "      <td>NaN</td>\n",
       "      <td>NaN</td>\n",
       "      <td>NaN</td>\n",
       "      <td>NaN</td>\n",
       "      <td>NaN</td>\n",
       "      <td>NaN</td>\n",
       "      <td>NaN</td>\n",
       "      <td>7378.029886</td>\n",
       "    </tr>\n",
       "    <tr>\n",
       "      <th>min</th>\n",
       "      <td>1.000000</td>\n",
       "      <td>18.00000</td>\n",
       "      <td>1.000000</td>\n",
       "      <td>25.000000</td>\n",
       "      <td>25.000000</td>\n",
       "      <td>NaN</td>\n",
       "      <td>NaN</td>\n",
       "      <td>NaN</td>\n",
       "      <td>NaN</td>\n",
       "      <td>NaN</td>\n",
       "      <td>NaN</td>\n",
       "      <td>NaN</td>\n",
       "      <td>NaN</td>\n",
       "      <td>18.0</td>\n",
       "      <td>64.0</td>\n",
       "      <td>41.0</td>\n",
       "      <td>456000.0</td>\n",
       "      <td>456.0</td>\n",
       "      <td>143515.000000</td>\n",
       "    </tr>\n",
       "    <tr>\n",
       "      <th>25%</th>\n",
       "      <td>250.750000</td>\n",
       "      <td>29.00000</td>\n",
       "      <td>1.000000</td>\n",
       "      <td>30.000000</td>\n",
       "      <td>60.000000</td>\n",
       "      <td>NaN</td>\n",
       "      <td>NaN</td>\n",
       "      <td>NaN</td>\n",
       "      <td>NaN</td>\n",
       "      <td>NaN</td>\n",
       "      <td>NaN</td>\n",
       "      <td>NaN</td>\n",
       "      <td>NaN</td>\n",
       "      <td>18.0</td>\n",
       "      <td>64.0</td>\n",
       "      <td>41.0</td>\n",
       "      <td>456000.0</td>\n",
       "      <td>456.0</td>\n",
       "      <td>149547.500000</td>\n",
       "    </tr>\n",
       "    <tr>\n",
       "      <th>50%</th>\n",
       "      <td>500.500000</td>\n",
       "      <td>42.00000</td>\n",
       "      <td>3.000000</td>\n",
       "      <td>50.000000</td>\n",
       "      <td>135.000000</td>\n",
       "      <td>NaN</td>\n",
       "      <td>NaN</td>\n",
       "      <td>NaN</td>\n",
       "      <td>NaN</td>\n",
       "      <td>NaN</td>\n",
       "      <td>NaN</td>\n",
       "      <td>NaN</td>\n",
       "      <td>NaN</td>\n",
       "      <td>18.0</td>\n",
       "      <td>64.0</td>\n",
       "      <td>41.0</td>\n",
       "      <td>456000.0</td>\n",
       "      <td>456.0</td>\n",
       "      <td>155580.000000</td>\n",
       "    </tr>\n",
       "    <tr>\n",
       "      <th>75%</th>\n",
       "      <td>750.250000</td>\n",
       "      <td>53.00000</td>\n",
       "      <td>4.000000</td>\n",
       "      <td>300.000000</td>\n",
       "      <td>900.000000</td>\n",
       "      <td>NaN</td>\n",
       "      <td>NaN</td>\n",
       "      <td>NaN</td>\n",
       "      <td>NaN</td>\n",
       "      <td>NaN</td>\n",
       "      <td>NaN</td>\n",
       "      <td>NaN</td>\n",
       "      <td>NaN</td>\n",
       "      <td>18.0</td>\n",
       "      <td>64.0</td>\n",
       "      <td>41.0</td>\n",
       "      <td>456000.0</td>\n",
       "      <td>456.0</td>\n",
       "      <td>156242.500000</td>\n",
       "    </tr>\n",
       "    <tr>\n",
       "      <th>max</th>\n",
       "      <td>1000.000000</td>\n",
       "      <td>64.00000</td>\n",
       "      <td>4.000000</td>\n",
       "      <td>500.000000</td>\n",
       "      <td>2000.000000</td>\n",
       "      <td>NaN</td>\n",
       "      <td>NaN</td>\n",
       "      <td>NaN</td>\n",
       "      <td>NaN</td>\n",
       "      <td>NaN</td>\n",
       "      <td>NaN</td>\n",
       "      <td>NaN</td>\n",
       "      <td>NaN</td>\n",
       "      <td>18.0</td>\n",
       "      <td>64.0</td>\n",
       "      <td>41.0</td>\n",
       "      <td>456000.0</td>\n",
       "      <td>456.0</td>\n",
       "      <td>156905.000000</td>\n",
       "    </tr>\n",
       "  </tbody>\n",
       "</table>\n",
       "</div>"
      ],
      "text/plain": [
       "       Transaction ID         Age     Quantity  Price per Unit  Total Amount  \\\n",
       "count     1000.000000  1000.00000  1000.000000     1000.000000   1000.000000   \n",
       "mean       500.500000    41.39200     2.514000      179.890000    456.000000   \n",
       "std        288.819436    13.68143     1.132734      189.681356    559.997632   \n",
       "min          1.000000    18.00000     1.000000       25.000000     25.000000   \n",
       "25%        250.750000    29.00000     1.000000       30.000000     60.000000   \n",
       "50%        500.500000    42.00000     3.000000       50.000000    135.000000   \n",
       "75%        750.250000    53.00000     4.000000      300.000000    900.000000   \n",
       "max       1000.000000    64.00000     4.000000      500.000000   2000.000000   \n",
       "\n",
       "       Unnamed: 9  Unnamed: 10  Unnamed: 11  Unnamed: 12  Unnamed: 13  \\\n",
       "count         0.0          0.0          0.0          0.0          0.0   \n",
       "mean          NaN          NaN          NaN          NaN          NaN   \n",
       "std           NaN          NaN          NaN          NaN          NaN   \n",
       "min           NaN          NaN          NaN          NaN          NaN   \n",
       "25%           NaN          NaN          NaN          NaN          NaN   \n",
       "50%           NaN          NaN          NaN          NaN          NaN   \n",
       "75%           NaN          NaN          NaN          NaN          NaN   \n",
       "max           NaN          NaN          NaN          NaN          NaN   \n",
       "\n",
       "       Unnamed: 14  Unnamed: 15  Unnamed: 16  Min_age  Max_age  Avg_age  \\\n",
       "count          0.0          0.0          0.0      1.0      1.0      1.0   \n",
       "mean           NaN          NaN          NaN     18.0     64.0     41.0   \n",
       "std            NaN          NaN          NaN      NaN      NaN      NaN   \n",
       "min            NaN          NaN          NaN     18.0     64.0     41.0   \n",
       "25%            NaN          NaN          NaN     18.0     64.0     41.0   \n",
       "50%            NaN          NaN          NaN     18.0     64.0     41.0   \n",
       "75%            NaN          NaN          NaN     18.0     64.0     41.0   \n",
       "max            NaN          NaN          NaN     18.0     64.0     41.0   \n",
       "\n",
       "       Total Sales Revenue  Average Order value          Sales  \n",
       "count                  1.0                  1.0       3.000000  \n",
       "mean              456000.0                456.0  152000.000000  \n",
       "std                    NaN                  NaN    7378.029886  \n",
       "min               456000.0                456.0  143515.000000  \n",
       "25%               456000.0                456.0  149547.500000  \n",
       "50%               456000.0                456.0  155580.000000  \n",
       "75%               456000.0                456.0  156242.500000  \n",
       "max               456000.0                456.0  156905.000000  "
      ]
     },
     "execution_count": 8,
     "metadata": {},
     "output_type": "execute_result"
    }
   ],
   "source": [
    "df.describe()"
   ]
  },
  {
   "cell_type": "code",
   "execution_count": 9,
   "metadata": {
    "id": "e5XjklE8NZmn"
   },
   "outputs": [
    {
     "name": "stdout",
     "output_type": "stream",
     "text": [
      "\n",
      "Distribution of 'Product Category':\n",
      "Product Category\n",
      "Clothing       351\n",
      "Electronics    342\n",
      "Beauty         307\n",
      "Name: count, dtype: int64\n",
      "\n",
      "Distribution of 'Gender':\n",
      "Gender\n",
      "Female    510\n",
      "Male      490\n",
      "Name: count, dtype: int64\n"
     ]
    }
   ],
   "source": [
    "# Data Shape and Distribution\n",
    "print(\"\\nDistribution of 'Product Category':\")\n",
    "print(df['Product Category'].value_counts())\n",
    "\n",
    "print(\"\\nDistribution of 'Gender':\")\n",
    "print(df['Gender'].value_counts())\n"
   ]
  },
  {
   "cell_type": "code",
   "execution_count": 10,
   "metadata": {
    "id": "hX7NkmklN94e"
   },
   "outputs": [
    {
     "data": {
      "image/png": "[encoded data removed]",
      "text/plain": [
       "<Figure size 1200x600 with 2 Axes>"
      ]
     },
     "metadata": {},
     "output_type": "display_data"
    }
   ],
   "source": [
    "\n",
    "# Visualization (if possible within the constraints)\n",
    "\n",
    "plt.figure(figsize=(12, 6))\n",
    "plt.subplot(1, 2, 1)\n",
    "df['Product Category'].value_counts().plot(kind='bar', color='skyblue')\n",
    "plt.title('Distribution of Product Category')\n",
    "plt.xlabel('Product Category')\n",
    "plt.ylabel('Count')\n",
    "\n",
    "plt.subplot(1, 2, 2)\n",
    "df['Gender'].value_counts().plot(kind='bar', color='lightcoral')\n",
    "plt.title('Distribution of Gender')\n",
    "plt.xlabel('Gender')\n",
    "plt.ylabel('Count')\n",
    "plt.tight_layout()\n",
    "plt.show()"
   ]
  },
  {
   "cell_type": "markdown",
   "metadata": {
    "id": "mTg5ZTmZPdzN"
   },
   "source": [
    "## Data cleaning\n",
    "Clean the data by handling missing values and outliers"
   ]
  },
  {
   "cell_type": "code",
   "execution_count": 11,
   "metadata": {
    "id": "WvoWf5RiP92p"
   },
   "outputs": [],
   "source": [
    " #Drop columns with a high percentage of missing values\n",
    "# These 'Unnamed' columns and others with >90% missing values are unlikely to be useful.\n",
    "columns_to_drop = ['Unnamed: 9', 'Unnamed: 10', 'Unnamed: 11', 'Unnamed: 12', 'Unnamed: 13', 'Unnamed: 14', 'Unnamed: 15', 'Unnamed: 16', 'Min_age', 'Max_age', 'Avg_age', 'Total Sales Revenue', 'Average Order value', 'Category']\n",
    "df.drop(columns=columns_to_drop, inplace=True, errors='ignore')\n"
   ]
  },
  {
   "cell_type": "code",
   "execution_count": 12,
   "metadata": {
    "id": "wm6zg9qgQBC6"
   },
   "outputs": [],
   "source": [
    "# Impute missing values in 'Age' with the median\n",
    "df['Age'].fillna(df['Age'].median(), inplace=True)\n"
   ]
  },
  {
   "cell_type": "code",
   "execution_count": 13,
   "metadata": {
    "id": "p3m7knDYQPo1"
   },
   "outputs": [],
   "source": [
    "# Impute missing values in 'Quantity' with the median\n",
    "df['Quantity'].fillna(df['Quantity'].median(), inplace=True)"
   ]
  },
  {
   "cell_type": "code",
   "execution_count": 14,
   "metadata": {
    "id": "NpomwBadQUbK"
   },
   "outputs": [],
   "source": [
    "# Impute missing values in 'Price per Unit' with the median\n",
    "df['Price per Unit'].fillna(df['Price per Unit'].median(), inplace=True)\n",
    "\n",
    "# Impute missing values in 'Total Amount' based on 'Quantity' and 'Price per Unit'\n",
    "df['Total Amount'] = df.apply(lambda row: row['Quantity'] * row['Price per Unit'] if pd.isna(row['Total Amount']) else row['Total Amount'], axis=1)\n",
    "\n"
   ]
  },
  {
   "cell_type": "code",
   "execution_count": 15,
   "metadata": {
    "id": "y5GluD6wQZJR"
   },
   "outputs": [],
   "source": [
    "# Remove rows with missing values in crucial columns ('Sales')\n",
    "df.dropna(subset=['Sales'], inplace=True)"
   ]
  },
  {
   "cell_type": "code",
   "execution_count": 16,
   "metadata": {
    "id": "_nemT2heQcdl"
   },
   "outputs": [],
   "source": [
    "# Outlier treatment for numerical columns\n",
    "from scipy.stats.mstats import winsorize\n",
    "df['Quantity'] = winsorize(df['Quantity'], limits=[0.05, 0.05])\n",
    "df['Price per Unit'] = winsorize(df['Price per Unit'], limits=[0.05, 0.05])"
   ]
  },
  {
   "cell_type": "code",
   "execution_count": 17,
   "metadata": {
    "id": "3uk0snG0Qfzn"
   },
   "outputs": [],
   "source": [
    "# Convert 'Date' column to datetime objects\n",
    "df['Date'] = pd.to_datetime(df['Date'], errors='coerce')\n",
    "# Drop rows with invalid dates\n",
    "df.dropna(subset=['Date'], inplace=True)\n"
   ]
  },
  {
   "cell_type": "code",
   "execution_count": 18,
   "metadata": {
    "id": "itsay8r4Qjye"
   },
   "outputs": [],
   "source": [
    "# Data Consistency: Correcting inconsistencies in 'Gender'\n",
    "df['Gender'] = df['Gender'].str.strip().str.lower()\n",
    "df['Gender'] = df['Gender'].replace({'male': 'Male', 'female': 'Female'})\n"
   ]
  },
  {
   "cell_type": "code",
   "execution_count": 19,
   "metadata": {
    "id": "cr2SJyxdQmvz"
   },
   "outputs": [],
   "source": [
    "# Create a copy of the cleaned dataframe\n",
    "df_cleaned = df.copy()"
   ]
  },
  {
   "cell_type": "code",
   "execution_count": 20,
   "metadata": {
    "id": "WStPd3k4QqU7"
   },
   "outputs": [
    {
     "data": {
      "text/html": [
       "<div>\n",
       "<style scoped>\n",
       "    .dataframe tbody tr th:only-of-type {\n",
       "        vertical-align: middle;\n",
       "    }\n",
       "\n",
       "    .dataframe tbody tr th {\n",
       "        vertical-align: top;\n",
       "    }\n",
       "\n",
       "    .dataframe thead th {\n",
       "        text-align: right;\n",
       "    }\n",
       "</style>\n",
       "<table border=\"1\" class=\"dataframe\">\n",
       "  <thead>\n",
       "    <tr style=\"text-align: right;\">\n",
       "      <th></th>\n",
       "      <th>Transaction ID</th>\n",
       "      <th>Date</th>\n",
       "      <th>Gender</th>\n",
       "      <th>Age</th>\n",
       "      <th>Age Group</th>\n",
       "      <th>Product Category</th>\n",
       "      <th>Quantity</th>\n",
       "      <th>Price per Unit</th>\n",
       "      <th>Total Amount</th>\n",
       "      <th>Category</th>\n",
       "      <th>Sales</th>\n",
       "    </tr>\n",
       "  </thead>\n",
       "  <tbody>\n",
       "    <tr>\n",
       "      <th>0</th>\n",
       "      <td>1</td>\n",
       "      <td>2023-11-24</td>\n",
       "      <td>Male</td>\n",
       "      <td>34</td>\n",
       "      <td>Middle Age</td>\n",
       "      <td>Beauty</td>\n",
       "      <td>3</td>\n",
       "      <td>50</td>\n",
       "      <td>150</td>\n",
       "      <td>Electronics</td>\n",
       "      <td>156905.0</td>\n",
       "    </tr>\n",
       "    <tr>\n",
       "      <th>1</th>\n",
       "      <td>2</td>\n",
       "      <td>2023-02-27</td>\n",
       "      <td>Female</td>\n",
       "      <td>26</td>\n",
       "      <td>Adolescent</td>\n",
       "      <td>Clothing</td>\n",
       "      <td>2</td>\n",
       "      <td>500</td>\n",
       "      <td>1000</td>\n",
       "      <td>Clothing</td>\n",
       "      <td>155580.0</td>\n",
       "    </tr>\n",
       "    <tr>\n",
       "      <th>2</th>\n",
       "      <td>3</td>\n",
       "      <td>2023-01-13</td>\n",
       "      <td>Male</td>\n",
       "      <td>50</td>\n",
       "      <td>Middle Age</td>\n",
       "      <td>Electronics</td>\n",
       "      <td>1</td>\n",
       "      <td>30</td>\n",
       "      <td>30</td>\n",
       "      <td>Beauty</td>\n",
       "      <td>143515.0</td>\n",
       "    </tr>\n",
       "  </tbody>\n",
       "</table>\n",
       "</div>"
      ],
      "text/plain": [
       "   Transaction ID       Date  Gender  Age   Age Group Product Category  \\\n",
       "0               1 2023-11-24    Male   34  Middle Age           Beauty   \n",
       "1               2 2023-02-27  Female   26  Adolescent         Clothing   \n",
       "2               3 2023-01-13    Male   50  Middle Age      Electronics   \n",
       "\n",
       "   Quantity  Price per Unit  Total Amount     Category     Sales  \n",
       "0         3              50           150  Electronics  156905.0  \n",
       "1         2             500          1000     Clothing  155580.0  \n",
       "2         1              30            30       Beauty  143515.0  "
      ]
     },
     "metadata": {},
     "output_type": "display_data"
    },
    {
     "name": "stdout",
     "output_type": "stream",
     "text": [
      "<class 'pandas.core.frame.DataFrame'>\n",
      "Index: 3 entries, 0 to 2\n",
      "Data columns (total 11 columns):\n",
      " #   Column            Non-Null Count  Dtype         \n",
      "---  ------            --------------  -----         \n",
      " 0   Transaction ID    3 non-null      int64         \n",
      " 1   Date              3 non-null      datetime64[ns]\n",
      " 2   Gender            3 non-null      object        \n",
      " 3   Age               3 non-null      int64         \n",
      " 4   Age Group         3 non-null      object        \n",
      " 5   Product Category  3 non-null      object        \n",
      " 6   Quantity          3 non-null      int64         \n",
      " 7   Price per Unit    3 non-null      int64         \n",
      " 8   Total Amount      3 non-null      int64         \n",
      " 9    Category         3 non-null      object        \n",
      " 10  Sales             3 non-null      float64       \n",
      "dtypes: datetime64[ns](1), float64(1), int64(5), object(4)\n",
      "memory usage: 288.0+ bytes\n"
     ]
    },
    {
     "data": {
      "text/plain": [
       "None"
      ]
     },
     "metadata": {},
     "output_type": "display_data"
    }
   ],
   "source": [
    "# Display the first few rows and info of the cleaned DataFrame\n",
    "display(df_cleaned.head())\n",
    "display(df_cleaned.info())"
   ]
  },
  {
   "cell_type": "markdown",
   "metadata": {
    "id": "VriPXv8RR6Hr"
   },
   "source": [
    "## Data wrangling\n",
    "Prepare the data for analysis by creating new features and converting data types."
   ]
  },
  {
   "cell_type": "code",
   "execution_count": 21,
   "metadata": {
    "id": "kRvDEeAXR7pb"
   },
   "outputs": [
    {
     "data": {
      "text/html": [
       "<div>\n",
       "<style scoped>\n",
       "    .dataframe tbody tr th:only-of-type {\n",
       "        vertical-align: middle;\n",
       "    }\n",
       "\n",
       "    .dataframe tbody tr th {\n",
       "        vertical-align: top;\n",
       "    }\n",
       "\n",
       "    .dataframe thead th {\n",
       "        text-align: right;\n",
       "    }\n",
       "</style>\n",
       "<table border=\"1\" class=\"dataframe\">\n",
       "  <thead>\n",
       "    <tr style=\"text-align: right;\">\n",
       "      <th></th>\n",
       "      <th>Transaction ID</th>\n",
       "      <th>Date</th>\n",
       "      <th>Gender</th>\n",
       "      <th>Age</th>\n",
       "      <th>Age Group</th>\n",
       "      <th>Product Category</th>\n",
       "      <th>Quantity</th>\n",
       "      <th>Price per Unit</th>\n",
       "      <th>Total Amount</th>\n",
       "      <th>Category</th>\n",
       "      <th>Sales</th>\n",
       "      <th>Month</th>\n",
       "      <th>Total Sales</th>\n",
       "    </tr>\n",
       "  </thead>\n",
       "  <tbody>\n",
       "    <tr>\n",
       "      <th>0</th>\n",
       "      <td>1</td>\n",
       "      <td>2023-11-24</td>\n",
       "      <td>Male</td>\n",
       "      <td>34</td>\n",
       "      <td>Middle Age</td>\n",
       "      <td>Beauty</td>\n",
       "      <td>3</td>\n",
       "      <td>50</td>\n",
       "      <td>150</td>\n",
       "      <td>Electronics</td>\n",
       "      <td>156905.0</td>\n",
       "      <td>11</td>\n",
       "      <td>150</td>\n",
       "    </tr>\n",
       "    <tr>\n",
       "      <th>1</th>\n",
       "      <td>2</td>\n",
       "      <td>2023-02-27</td>\n",
       "      <td>Female</td>\n",
       "      <td>26</td>\n",
       "      <td>Adolescent</td>\n",
       "      <td>Clothing</td>\n",
       "      <td>2</td>\n",
       "      <td>500</td>\n",
       "      <td>1000</td>\n",
       "      <td>Clothing</td>\n",
       "      <td>155580.0</td>\n",
       "      <td>2</td>\n",
       "      <td>1000</td>\n",
       "    </tr>\n",
       "    <tr>\n",
       "      <th>2</th>\n",
       "      <td>3</td>\n",
       "      <td>2023-01-13</td>\n",
       "      <td>Male</td>\n",
       "      <td>50</td>\n",
       "      <td>Middle Age</td>\n",
       "      <td>Electronics</td>\n",
       "      <td>1</td>\n",
       "      <td>30</td>\n",
       "      <td>30</td>\n",
       "      <td>Beauty</td>\n",
       "      <td>143515.0</td>\n",
       "      <td>1</td>\n",
       "      <td>30</td>\n",
       "    </tr>\n",
       "  </tbody>\n",
       "</table>\n",
       "</div>"
      ],
      "text/plain": [
       "   Transaction ID       Date  Gender  Age   Age Group Product Category  \\\n",
       "0               1 2023-11-24    Male   34  Middle Age           Beauty   \n",
       "1               2 2023-02-27  Female   26  Adolescent         Clothing   \n",
       "2               3 2023-01-13    Male   50  Middle Age      Electronics   \n",
       "\n",
       "   Quantity  Price per Unit  Total Amount     Category     Sales  Month  \\\n",
       "0         3              50           150  Electronics  156905.0     11   \n",
       "1         2             500          1000     Clothing  155580.0      2   \n",
       "2         1              30            30       Beauty  143515.0      1   \n",
       "\n",
       "   Total Sales  \n",
       "0          150  \n",
       "1         1000  \n",
       "2           30  "
      ]
     },
     "metadata": {},
     "output_type": "display_data"
    },
    {
     "name": "stdout",
     "output_type": "stream",
     "text": [
      "<class 'pandas.core.frame.DataFrame'>\n",
      "Index: 3 entries, 0 to 2\n",
      "Data columns (total 13 columns):\n",
      " #   Column            Non-Null Count  Dtype         \n",
      "---  ------            --------------  -----         \n",
      " 0   Transaction ID    3 non-null      int64         \n",
      " 1   Date              3 non-null      datetime64[ns]\n",
      " 2   Gender            3 non-null      object        \n",
      " 3   Age               3 non-null      int64         \n",
      " 4   Age Group         3 non-null      object        \n",
      " 5   Product Category  3 non-null      object        \n",
      " 6   Quantity          3 non-null      int64         \n",
      " 7   Price per Unit    3 non-null      int64         \n",
      " 8   Total Amount      3 non-null      int64         \n",
      " 9    Category         3 non-null      object        \n",
      " 10  Sales             3 non-null      float64       \n",
      " 11  Month             3 non-null      int32         \n",
      " 12  Total Sales       3 non-null      int64         \n",
      "dtypes: datetime64[ns](1), float64(1), int32(1), int64(6), object(4)\n",
      "memory usage: 324.0+ bytes\n",
      "None\n"
     ]
    }
   ],
   "source": [
    "# Create 'Month' column\n",
    "df_wrangled = df_cleaned.copy()\n",
    "df_wrangled['Month'] = df_wrangled['Date'].dt.month\n",
    "\n",
    "# Check and convert data types (if needed)\n",
    "# 'Sales' column seems to be numeric, but we'll ensure it is\n",
    "try:\n",
    "    df_wrangled['Sales'] = pd.to_numeric(df_wrangled['Sales'], errors='coerce')\n",
    "except KeyError:\n",
    "    print(\"The 'Sales' column does not exist.\")\n",
    "\n",
    "# Check for and create 'Total Sales' if it doesn't exist\n",
    "if 'Total Sales' not in df_wrangled.columns:\n",
    "    df_wrangled['Total Sales'] = df_wrangled['Quantity'] * df_wrangled['Price per Unit']\n",
    "\n",
    "display(df_wrangled.head())\n",
    "print(df_wrangled.info())"
   ]
  },
  {
   "cell_type": "markdown",
   "metadata": {
    "id": "vak_GO19Si5-"
   },
   "source": [
    "# Exploratory Data analysis(EDA)\n",
    "\n",
    "Analyze the prepared data to identify sales trends, relationships between variables, and key statistics.\n",
    "\n",
    "Reasoning: Calculate descriptive statistics, analyze sales trends, examine relationships between variables, and investigate sales performance by category and gender."
   ]
  },
  {
   "cell_type": "code",
   "execution_count": 22,
   "metadata": {
    "id": "8eAqhQAwS3ZJ"
   },
   "outputs": [
    {
     "data": {
      "text/html": [
       "<div>\n",
       "<style scoped>\n",
       "    .dataframe tbody tr th:only-of-type {\n",
       "        vertical-align: middle;\n",
       "    }\n",
       "\n",
       "    .dataframe tbody tr th {\n",
       "        vertical-align: top;\n",
       "    }\n",
       "\n",
       "    .dataframe thead th {\n",
       "        text-align: right;\n",
       "    }\n",
       "</style>\n",
       "<table border=\"1\" class=\"dataframe\">\n",
       "  <thead>\n",
       "    <tr style=\"text-align: right;\">\n",
       "      <th></th>\n",
       "      <th>Sales</th>\n",
       "      <th>Quantity</th>\n",
       "      <th>Price per Unit</th>\n",
       "      <th>Total Sales</th>\n",
       "    </tr>\n",
       "  </thead>\n",
       "  <tbody>\n",
       "    <tr>\n",
       "      <th>count</th>\n",
       "      <td>3.000000</td>\n",
       "      <td>3.0</td>\n",
       "      <td>3.000000</td>\n",
       "      <td>3.000000</td>\n",
       "    </tr>\n",
       "    <tr>\n",
       "      <th>mean</th>\n",
       "      <td>152000.000000</td>\n",
       "      <td>2.0</td>\n",
       "      <td>193.333333</td>\n",
       "      <td>393.333333</td>\n",
       "    </tr>\n",
       "    <tr>\n",
       "      <th>std</th>\n",
       "      <td>7378.029886</td>\n",
       "      <td>1.0</td>\n",
       "      <td>265.769324</td>\n",
       "      <td>528.803681</td>\n",
       "    </tr>\n",
       "    <tr>\n",
       "      <th>min</th>\n",
       "      <td>143515.000000</td>\n",
       "      <td>1.0</td>\n",
       "      <td>30.000000</td>\n",
       "      <td>30.000000</td>\n",
       "    </tr>\n",
       "    <tr>\n",
       "      <th>25%</th>\n",
       "      <td>149547.500000</td>\n",
       "      <td>1.5</td>\n",
       "      <td>40.000000</td>\n",
       "      <td>90.000000</td>\n",
       "    </tr>\n",
       "    <tr>\n",
       "      <th>50%</th>\n",
       "      <td>155580.000000</td>\n",
       "      <td>2.0</td>\n",
       "      <td>50.000000</td>\n",
       "      <td>150.000000</td>\n",
       "    </tr>\n",
       "    <tr>\n",
       "      <th>75%</th>\n",
       "      <td>156242.500000</td>\n",
       "      <td>2.5</td>\n",
       "      <td>275.000000</td>\n",
       "      <td>575.000000</td>\n",
       "    </tr>\n",
       "    <tr>\n",
       "      <th>max</th>\n",
       "      <td>156905.000000</td>\n",
       "      <td>3.0</td>\n",
       "      <td>500.000000</td>\n",
       "      <td>1000.000000</td>\n",
       "    </tr>\n",
       "  </tbody>\n",
       "</table>\n",
       "</div>"
      ],
      "text/plain": [
       "               Sales  Quantity  Price per Unit  Total Sales\n",
       "count       3.000000       3.0        3.000000     3.000000\n",
       "mean   152000.000000       2.0      193.333333   393.333333\n",
       "std      7378.029886       1.0      265.769324   528.803681\n",
       "min    143515.000000       1.0       30.000000    30.000000\n",
       "25%    149547.500000       1.5       40.000000    90.000000\n",
       "50%    155580.000000       2.0       50.000000   150.000000\n",
       "75%    156242.500000       2.5      275.000000   575.000000\n",
       "max    156905.000000       3.0      500.000000  1000.000000"
      ]
     },
     "metadata": {},
     "output_type": "display_data"
    }
   ],
   "source": [
    "# Calculate descriptive statistics\n",
    "descriptive_stats = df_wrangled[['Sales', 'Quantity', 'Price per Unit', 'Total Sales']].describe()\n",
    "display(descriptive_stats)\n"
   ]
  },
  {
   "cell_type": "code",
   "execution_count": 23,
   "metadata": {
    "id": "4yO1lNweTIA2"
   },
   "outputs": [
    {
     "data": {
      "text/plain": [
       "Month\n",
       "1       30\n",
       "2     1000\n",
       "11     150\n",
       "Name: Total Sales, dtype: int64"
      ]
     },
     "metadata": {},
     "output_type": "display_data"
    }
   ],
   "source": [
    "# Analyze sales trends over time\n",
    "monthly_sales = df_wrangled.groupby('Month')['Total Sales'].sum()\n",
    "display(monthly_sales)\n"
   ]
  },
  {
   "cell_type": "code",
   "execution_count": 24,
   "metadata": {
    "id": "ZfgAJsUMX8fp"
   },
   "outputs": [
    {
     "data": {
      "text/html": [
       "<div>\n",
       "<style scoped>\n",
       "    .dataframe tbody tr th:only-of-type {\n",
       "        vertical-align: middle;\n",
       "    }\n",
       "\n",
       "    .dataframe tbody tr th {\n",
       "        vertical-align: top;\n",
       "    }\n",
       "\n",
       "    .dataframe thead th {\n",
       "        text-align: right;\n",
       "    }\n",
       "</style>\n",
       "<table border=\"1\" class=\"dataframe\">\n",
       "  <thead>\n",
       "    <tr style=\"text-align: right;\">\n",
       "      <th></th>\n",
       "      <th>Sales</th>\n",
       "      <th>Quantity</th>\n",
       "      <th>Price per Unit</th>\n",
       "      <th>Total Sales</th>\n",
       "    </tr>\n",
       "  </thead>\n",
       "  <tbody>\n",
       "    <tr>\n",
       "      <th>Sales</th>\n",
       "      <td>1.000000</td>\n",
       "      <td>0.907424</td>\n",
       "      <td>0.454062</td>\n",
       "      <td>0.520463</td>\n",
       "    </tr>\n",
       "    <tr>\n",
       "      <th>Quantity</th>\n",
       "      <td>0.907424</td>\n",
       "      <td>1.000000</td>\n",
       "      <td>0.037627</td>\n",
       "      <td>0.113464</td>\n",
       "    </tr>\n",
       "    <tr>\n",
       "      <th>Price per Unit</th>\n",
       "      <td>0.454062</td>\n",
       "      <td>0.037627</td>\n",
       "      <td>1.000000</td>\n",
       "      <td>0.997108</td>\n",
       "    </tr>\n",
       "    <tr>\n",
       "      <th>Total Sales</th>\n",
       "      <td>0.520463</td>\n",
       "      <td>0.113464</td>\n",
       "      <td>0.997108</td>\n",
       "      <td>1.000000</td>\n",
       "    </tr>\n",
       "  </tbody>\n",
       "</table>\n",
       "</div>"
      ],
      "text/plain": [
       "                   Sales  Quantity  Price per Unit  Total Sales\n",
       "Sales           1.000000  0.907424        0.454062     0.520463\n",
       "Quantity        0.907424  1.000000        0.037627     0.113464\n",
       "Price per Unit  0.454062  0.037627        1.000000     0.997108\n",
       "Total Sales     0.520463  0.113464        0.997108     1.000000"
      ]
     },
     "metadata": {},
     "output_type": "display_data"
    }
   ],
   "source": [
    "# Examine the relationship between 'Sales' and other variables\n",
    "correlation_matrix = df_wrangled[['Sales', 'Quantity', 'Price per Unit', 'Total Sales']].corr()\n",
    "display(correlation_matrix)"
   ]
  },
  {
   "cell_type": "code",
   "execution_count": 25,
   "metadata": {
    "id": "6OI-D6fITW72"
   },
   "outputs": [
    {
     "data": {
      "text/plain": [
       "Gender\n",
       "Female    1000\n",
       "Male       180\n",
       "Name: Total Sales, dtype: int64"
      ]
     },
     "metadata": {},
     "output_type": "display_data"
    }
   ],
   "source": [
    "# Investigate sales performance by 'Gender'\n",
    "sales_by_gender = df_wrangled.groupby('Gender')['Total Sales'].sum()\n",
    "display(sales_by_gender)"
   ]
  },
  {
   "cell_type": "markdown",
   "metadata": {
    "id": "Fq8tCNQHTedy"
   },
   "source": [
    "## Data visualization\n",
    "\n",
    "Visualize the key findings from the data analysis."
   ]
  },
  {
   "cell_type": "code",
   "execution_count": 26,
   "metadata": {
    "id": "APuS6jwTTpFc"
   },
   "outputs": [
    {
     "data": {
      "image/png": "[encoded data removed]",
      "text/plain": [
       "<Figure size 800x600 with 1 Axes>"
      ]
     },
     "metadata": {},
     "output_type": "display_data"
    }
   ],
   "source": [
    "# 1. Histogram for 'Sales'\n",
    "plt.figure(figsize=(8, 6))\n",
    "plt.hist(df_wrangled['Sales'], bins=20, color='skyblue', edgecolor='black')\n",
    "plt.title('Distribution of Sales')\n",
    "plt.xlabel('Sales')\n",
    "plt.ylabel('Frequency')\n",
    "plt.show()\n"
   ]
  },
  {
   "cell_type": "code",
   "execution_count": 27,
   "metadata": {
    "id": "ISysXGs8TuEa"
   },
   "outputs": [
    {
     "data": {
      "image/png": "[encoded data removed]",
      "text/plain": [
       "<Figure size 800x600 with 1 Axes>"
      ]
     },
     "metadata": {},
     "output_type": "display_data"
    }
   ],
   "source": [
    "# 2. Bar chart of total sales for each month\n",
    "plt.figure(figsize=(8, 6))\n",
    "monthly_sales = df_wrangled.groupby('Month')['Total Sales'].sum()\n",
    "monthly_sales.plot(kind='bar', color='lightcoral')\n",
    "plt.title('Total Sales per Month')\n",
    "plt.xlabel('Month')\n",
    "plt.ylabel('Total Sales')\n",
    "plt.show()"
   ]
  },
  {
   "cell_type": "code",
   "execution_count": 28,
   "metadata": {
    "id": "Pzlx4ackTztv"
   },
   "outputs": [
    {
     "data": {
      "image/png": "[encoded data removed]",
      "text/plain": [
       "<Figure size 800x600 with 1 Axes>"
      ]
     },
     "metadata": {},
     "output_type": "display_data"
    }
   ],
   "source": [
    "# 3. Scatter plot of 'Sales' vs. 'Quantity'\n",
    "plt.figure(figsize=(8, 6))\n",
    "plt.scatter(df_wrangled['Sales'], df_wrangled['Quantity'], color='green')\n",
    "plt.title('Sales vs. Quantity')\n",
    "plt.xlabel('Sales')\n",
    "plt.ylabel('Quantity')\n",
    "# Add a trendline (linear regression)\n",
    "z = np.polyfit(df_wrangled['Sales'], df_wrangled['Quantity'], 1)\n",
    "p = np.poly1d(z)\n",
    "plt.plot(df_wrangled['Sales'],p(df_wrangled['Sales']),\"r--\")\n",
    "\n",
    "plt.show()"
   ]
  },
  {
   "cell_type": "code",
   "execution_count": 29,
   "metadata": {
    "id": "AYwBrteET3XS"
   },
   "outputs": [
    {
     "data": {
      "image/png": "[encoded data removed]",
      "text/plain": [
       "<Figure size 1000x600 with 1 Axes>"
      ]
     },
     "metadata": {},
     "output_type": "display_data"
    }
   ],
   "source": [
    "# 4. Bar chart of total sales for each product category\n",
    "plt.figure(figsize=(10, 6))\n",
    "sales_by_category = df_wrangled.groupby('Product Category')['Total Sales'].sum()\n",
    "sales_by_category.plot(kind='bar', color='orange')\n",
    "plt.title('Total Sales per Product Category')\n",
    "plt.xlabel('Product Category')\n",
    "plt.ylabel('Total Sales')\n",
    "plt.xticks(rotation=45, ha='right') # Rotate x-axis labels for better readability\n",
    "plt.tight_layout() # Adjust layout to prevent labels from overlapping\n",
    "plt.show()\n"
   ]
  },
  {
   "cell_type": "code",
   "execution_count": 30,
   "metadata": {
    "id": "GZRkC-MjUc-o"
   },
   "outputs": [
    {
     "data": {
      "image/png": "[encoded data removed]",
      "text/plain": [
       "<Figure size 600x600 with 1 Axes>"
      ]
     },
     "metadata": {},
     "output_type": "display_data"
    }
   ],
   "source": [
    "# 5. Bar chart comparing total sales for each gender\n",
    "plt.figure(figsize=(6, 6))\n",
    "sales_by_gender = df_wrangled.groupby('Gender')['Total Sales'].sum()\n",
    "sales_by_gender.plot(kind='bar', color=['purple', 'pink'])\n",
    "plt.title('Total Sales per Gender')\n",
    "plt.xlabel('Gender')\n",
    "plt.ylabel('Total Sales')\n",
    "plt.show()\n"
   ]
  },
  {
   "cell_type": "code",
   "execution_count": 31,
   "metadata": {
    "id": "egTCuIttUvmZ"
   },
   "outputs": [
    {
     "data": {
      "image/png": "[encoded data removed]",
      "text/plain": [
       "<Figure size 800x600 with 2 Axes>"
      ]
     },
     "metadata": {},
     "output_type": "display_data"
    }
   ],
   "source": [
    "# 6. Correlation heatmap\n",
    "plt.figure(figsize=(8, 6))\n",
    "correlation_matrix = df_wrangled[['Sales', 'Quantity', 'Price per Unit', 'Total Sales']].corr()\n",
    "sns.heatmap(correlation_matrix, annot=True, cmap='viridis', fmt=\".2f\")\n",
    "plt.title('Correlation Matrix')\n",
    "plt.show()"
   ]
  },
  {
   "cell_type": "markdown",
   "metadata": {
    "id": "K6cJf9AjJYWV"
   },
   "source": [
    "### Summary:\n",
    "\n",
    " Relationships between variables, and key statistics related to retail sales data.  The analysis answers these implicit questions through visualizations and statistical summaries.\n",
    "\n",
    "\n",
    "## Data Analysis Key Findings\n",
    "\n",
    "* **High Missing Data:**  Many columns (e.g., 'Unnamed' columns, 'Min_age', 'Max_age', 'Avg_age', 'Total Sales Revenue', 'Average Order value', 'Category') had a high percentage of missing values (often >90%), leading to their removal.\n",
    "* **Strong Correlation:** 'Total Sales' and 'Price per Unit' exhibit a very strong positive correlation (0.997).  'Sales' and 'Quantity' show a moderate positive correlation (0.91).\n",
    "* **Sales Trend:** Month 2 shows significantly higher total sales compared to other months (Months 1 and 11) in the dataset.\n",
    "* **Top Performing Product Category:** 'Clothing' has the highest total sales among all product categories.\n",
    "* **Gender-Based Sales:** 'Female' customers generated the highest total sales.\n",
    "\n",
    "\n",
    "## Insights:\n",
    "\n",
    "* **Investigate Month 2 Sales:**  The significantly higher sales in Month 2 warrant further investigation.  Analyze marketing campaigns, promotions, or seasonal factors that might have contributed to this peak.\n",
    "* **Deep Dive into 'Clothing' Category:** Given the high sales volume in the 'Clothing' category, a deeper analysis of this category's subcategories, price points, and customer demographics could reveal further opportunities.\n"
   ]
  },
  {
   "cell_type": "markdown",
   "metadata": {
    "id": "Puqu4ipLWTcw"
   },
   "source": [
    "## **Amit Kumar Singh**"
   ]
  },
  {
   "cell_type": "code",
   "execution_count": null,
   "metadata": {
    "id": "HF2AoH0gYTtp"
   },
   "outputs": [],
   "source": []
  }
 ],
 "metadata": {
  "colab": {
   "cell_execution_strategy": "setup",
   "private_outputs": true,
   "provenance": []
  },
  "kernelspec": {
   "display_name": "Python 3 (ipykernel)",
   "language": "python",
   "name": "python3"
  },
  "language_info": {
   "codemirror_mode": {
    "name": "ipython",
    "version": 3
   },
   "file_extension": ".py",
   "mimetype": "text/x-python",
   "name": "python",
   "nbconvert_exporter": "python",
   "pygments_lexer": "ipython3",
   "version": "3.11.7"
  }
 },
 "nbformat": 4,
 "nbformat_minor": 4
}
